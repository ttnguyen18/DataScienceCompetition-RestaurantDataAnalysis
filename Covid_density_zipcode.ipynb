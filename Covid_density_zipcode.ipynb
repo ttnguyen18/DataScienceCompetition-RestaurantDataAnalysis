{
 "cells": [
  {
   "cell_type": "code",
   "execution_count": 1,
   "metadata": {},
   "outputs": [
    {
     "name": "stdout",
     "output_type": "stream",
     "text": [
      "Requirement already satisfied: uszipcode in /opt/anaconda3/lib/python3.7/site-packages (0.2.6)\n",
      "Requirement already satisfied: requests in /opt/anaconda3/lib/python3.7/site-packages (from uszipcode) (2.22.0)\n",
      "Requirement already satisfied: SQLAlchemy in /opt/anaconda3/lib/python3.7/site-packages (from uszipcode) (1.3.9)\n",
      "Requirement already satisfied: attrs in /opt/anaconda3/lib/python3.7/site-packages (from uszipcode) (19.2.0)\n",
      "Requirement already satisfied: pathlib-mate in /opt/anaconda3/lib/python3.7/site-packages (from uszipcode) (1.0.1)\n",
      "Requirement already satisfied: idna<2.9,>=2.5 in /opt/anaconda3/lib/python3.7/site-packages (from requests->uszipcode) (2.8)\n",
      "Requirement already satisfied: certifi>=2017.4.17 in /opt/anaconda3/lib/python3.7/site-packages (from requests->uszipcode) (2019.9.11)\n",
      "Requirement already satisfied: chardet<3.1.0,>=3.0.2 in /opt/anaconda3/lib/python3.7/site-packages (from requests->uszipcode) (3.0.4)\n",
      "Requirement already satisfied: urllib3!=1.25.0,!=1.25.1,<1.26,>=1.21.1 in /opt/anaconda3/lib/python3.7/site-packages (from requests->uszipcode) (1.24.2)\n",
      "Requirement already satisfied: autopep8 in /opt/anaconda3/lib/python3.7/site-packages (from pathlib-mate->uszipcode) (1.5.7)\n",
      "Requirement already satisfied: six in /opt/anaconda3/lib/python3.7/site-packages (from pathlib-mate->uszipcode) (1.12.0)\n",
      "Requirement already satisfied: atomicwrites in /opt/anaconda3/lib/python3.7/site-packages (from pathlib-mate->uszipcode) (1.3.0)\n",
      "Requirement already satisfied: pycodestyle>=2.7.0 in /opt/anaconda3/lib/python3.7/site-packages (from autopep8->pathlib-mate->uszipcode) (2.7.0)\n",
      "Requirement already satisfied: toml in /opt/anaconda3/lib/python3.7/site-packages (from autopep8->pathlib-mate->uszipcode) (0.10.2)\n",
      "       Time Stamp           Region   Latitude   Longitude   Density zipcode\n",
      "71732  07-19-2021            Acton  34.480742 -118.186838  0.017633   93510\n",
      "71733  07-19-2021  Adams-Normandie  34.031788 -118.300247  0.065932   90018\n",
      "71734  07-19-2021     Agoura Hills  34.147910 -118.765704  0.036988   91301\n",
      "71735  07-19-2021         Alhambra  34.093042 -118.127060  0.080871   91801\n",
      "71736  07-19-2021           Alsace  33.988000 -118.347620  0.137243   90043\n",
      "...           ...              ...        ...         ...       ...     ...\n",
      "71965  07-19-2021      Willowbrook  33.918786 -118.234393  0.025409   90222\n",
      "71966  07-19-2021       Wilmington  33.780016 -118.262509  0.160089   90744\n",
      "71967  07-19-2021  Wilshire Center  34.061515 -118.432771  0.114238   90024\n",
      "71968  07-19-2021         Winnetka  34.205883 -118.570934  0.142863   91306\n",
      "71969  07-19-2021   Woodland Hills  34.168436 -118.605838  0.078932   91367\n",
      "\n",
      "[238 rows x 6 columns]\n"
     ]
    },
    {
     "name": "stderr",
     "output_type": "stream",
     "text": [
      "/opt/anaconda3/lib/python3.7/site-packages/ipykernel_launcher.py:25: SettingWithCopyWarning: \n",
      "A value is trying to be set on a copy of a slice from a DataFrame.\n",
      "Try using .loc[row_indexer,col_indexer] = value instead\n",
      "\n",
      "See the caveats in the documentation: http://pandas.pydata.org/pandas-docs/stable/user_guide/indexing.html#returning-a-view-versus-a-copy\n"
     ]
    }
   ],
   "source": [
    "#Import packages\n",
    "import pandas as pd\n",
    "!pip install uszipcode\n",
    "from uszipcode import SearchEngine\n",
    "search = SearchEngine(simple_zipcode=True)\n",
    "from uszipcode import Zipcode\n",
    "import numpy as np\n",
    "\n",
    "#Load the Covid-19 density dataset and keep only the most updated data\n",
    "density = pd.read_csv(\"Covid-19-density.csv\")\n",
    "densitynew = density[density['Time Stamp'] == '07-19-2021']\n",
    "\n",
    "#Define zipcode search function\n",
    "def get_zipcode(lat, lon):\n",
    "    result = search.by_coordinates(lat = lat, lng = lon, returns = 1)\n",
    "    return result[0].zipcode\n",
    "\n",
    "#Load columns from dataframe\n",
    "lat = densitynew['Latitude']\n",
    "lon = densitynew['Longitude']\n",
    "\n",
    "#Define latitude/longitude for function\n",
    "df = pd.DataFrame({'lat':lat, 'lon':lon})\n",
    "\n",
    "#Add new column with generated zip-code\n",
    "densitynew['zipcode'] = df.apply(lambda x: get_zipcode(x.lat,x.lon), axis=1)\n",
    "\n",
    "#Print result\n",
    "print(densitynew)\n",
    "\n",
    "#Export the file\n",
    "densitynew.to_csv(r'\\Users\\thuongnguyen\\Covid_density.csv', index = False, header=True)"
   ]
  }
 ],
 "metadata": {
  "kernelspec": {
   "display_name": "Python 3",
   "language": "python",
   "name": "python3"
  },
  "language_info": {
   "codemirror_mode": {
    "name": "ipython",
    "version": 3
   },
   "file_extension": ".py",
   "mimetype": "text/x-python",
   "name": "python",
   "nbconvert_exporter": "python",
   "pygments_lexer": "ipython3",
   "version": "3.7.4"
  }
 },
 "nbformat": 4,
 "nbformat_minor": 2
}
